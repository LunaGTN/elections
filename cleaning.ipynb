{
 "cells": [
  {
   "cell_type": "code",
   "execution_count": 2,
   "metadata": {},
   "outputs": [],
   "source": [
    "import pandas as pd\n",
    "from pandas import read_excel\n",
    "from os import listdir"
   ]
  },
  {
   "cell_type": "code",
   "execution_count": 4,
   "metadata": {},
   "outputs": [],
   "source": [
    "list_files = listdir(\"ods\") #Nom des fichiers ods "
   ]
  },
  {
   "cell_type": "markdown",
   "metadata": {},
   "source": [
    "dico_files est un dictionnaire qui contient des dataframe"
   ]
  },
  {
   "cell_type": "code",
   "execution_count": 5,
   "metadata": {},
   "outputs": [
    {
     "name": "stdout",
     "output_type": "stream",
     "text": [
      "['leg22_T1.ods', 'leg22_T2.ods', 'leg24_T1.ods', 'leg24_T2.ods', 'mun20_T1.ods', 'mun20_T2.ods', 'pre22_T1.ods']\n"
     ]
    }
   ],
   "source": [
    "dico_files = {} #Clé = Nom du fichier, Valeur = dataframe\n",
    "for file in list_files:\n",
    "    dico_files[file] = read_excel(f\"ods/{file}\")\n",
    "print(list_files)\n"
   ]
  },
  {
   "cell_type": "markdown",
   "metadata": {},
   "source": [
    "Créer pour chaque dataframe une colonne election, année et tour dans le but de tous les merge à la fin tout en gardant la trace de quel résultat appartient à quelle élection/tour"
   ]
  },
  {
   "cell_type": "code",
   "execution_count": 6,
   "metadata": {},
   "outputs": [],
   "source": [
    "i = 0\n",
    "for key in dico_files.keys():\n",
    "    dico_files[key][\"election\"] = list_files[i][0:3]\n",
    "    dico_files[key][\"année\"] = list_files[i][3:5]\n",
    "    dico_files[key][\"tour\"] = list_files[i][7]\n",
    "    dico_files[key] = dico_files[key].drop(columns = 'Circonscription')\n",
    "    i += 1"
   ]
  },
  {
   "cell_type": "markdown",
   "metadata": {},
   "source": [
    "Corriger des erreurs de typo présentes dans les données "
   ]
  },
  {
   "cell_type": "code",
   "execution_count": 7,
   "metadata": {},
   "outputs": [],
   "source": [
    "dico_files[\"mun20_T1.ods\"] = dico_files[\"mun20_T1.ods\"].rename(columns = {'Exprimes':'Exprimés'})\n",
    "dico_files[\"mun20_T2.ods\"] = dico_files[\"mun20_T1.ods\"].rename(columns = {'Exprimes':'Exprimés'})\n",
    "dico_files[\"leg24_T2.ods\"] = dico_files[\"leg24_T2.ods\"].rename(columns = {'Absentions':'Abstentions'})"
   ]
  },
  {
   "cell_type": "code",
   "execution_count": 8,
   "metadata": {},
   "outputs": [
    {
     "data": {
      "text/plain": [
       "dict_keys(['leg22_T1.ods', 'leg22_T2.ods', 'leg24_T1.ods', 'leg24_T2.ods', 'mun20_T1.ods', 'mun20_T2.ods', 'pre22_T1.ods'])"
      ]
     },
     "execution_count": 8,
     "metadata": {},
     "output_type": "execute_result"
    }
   ],
   "source": [
    "dico_files.keys()"
   ]
  },
  {
   "cell_type": "markdown",
   "metadata": {},
   "source": [
    "### Valeurs manquantes"
   ]
  },
  {
   "cell_type": "markdown",
   "metadata": {},
   "source": [
    "Il manquait des valeurs pour la ligne d'indice 134 que je suis allée chercher sur internet "
   ]
  },
  {
   "cell_type": "code",
   "execution_count": 9,
   "metadata": {},
   "outputs": [],
   "source": [
    "valeurs_de_remplacement = {'Inscrits': 1391, 'Abstentions': 878, \"Votants\":513, \"Exprimés\":501, \"ED\":25, \"DROITE\":154, \"GAUCHE\": 295, \"EG\":17, \"DIVERS\":10}  # Dictionnaire des valeurs à remplir\n",
    "for col, valeur in valeurs_de_remplacement.items():\n",
    "    dico_files[\"pre22_T1.ods\"].loc[134, col] = valeur"
   ]
  },
  {
   "cell_type": "markdown",
   "metadata": {},
   "source": [
    "### Merge tout mes dataframes "
   ]
  },
  {
   "cell_type": "markdown",
   "metadata": {},
   "source": [
    "### Traitements"
   ]
  },
  {
   "cell_type": "markdown",
   "metadata": {},
   "source": [
    "Je vais merge tout les fichiers csv dans un seul et même dataframe "
   ]
  },
  {
   "cell_type": "code",
   "execution_count": 10,
   "metadata": {},
   "outputs": [],
   "source": [
    "df = pd.DataFrame()\n",
    "for key in dico_files.keys():\n",
    "    df = pd.concat([df ,dico_files[key]])"
   ]
  },
  {
   "cell_type": "markdown",
   "metadata": {},
   "source": [
    "Je sais qu'il ne manque aucun quartiers de mairiedonc je retire toutes les lignes qui n'ont pas de quartiers de mairie"
   ]
  },
  {
   "cell_type": "code",
   "execution_count": 11,
   "metadata": {},
   "outputs": [],
   "source": [
    "masque_nettoyage = df.loc[df[\"Quartiers Mairie\"].isna() == True]"
   ]
  },
  {
   "cell_type": "code",
   "execution_count": 12,
   "metadata": {},
   "outputs": [],
   "source": [
    "df = df.drop(index = masque_nettoyage.index)"
   ]
  },
  {
   "cell_type": "markdown",
   "metadata": {},
   "source": [
    "J'ai encore des valeurs manquantes, et c'est normal, il y a généralement pas de partis d'extrème gauche ou divers en 2nd tour des élections. "
   ]
  },
  {
   "cell_type": "code",
   "execution_count": 13,
   "metadata": {},
   "outputs": [],
   "source": [
    "df[\"Participation\"] = df[\"Exprimés\"]/df[\"Inscrits\"]"
   ]
  },
  {
   "cell_type": "code",
   "execution_count": 14,
   "metadata": {},
   "outputs": [],
   "source": [
    "df.to_csv(\"dataset.csv\")"
   ]
  }
 ],
 "metadata": {
  "kernelspec": {
   "display_name": "base",
   "language": "python",
   "name": "python3"
  },
  "language_info": {
   "codemirror_mode": {
    "name": "ipython",
    "version": 3
   },
   "file_extension": ".py",
   "mimetype": "text/x-python",
   "name": "python",
   "nbconvert_exporter": "python",
   "pygments_lexer": "ipython3",
   "version": "3.12.4"
  }
 },
 "nbformat": 4,
 "nbformat_minor": 2
}
